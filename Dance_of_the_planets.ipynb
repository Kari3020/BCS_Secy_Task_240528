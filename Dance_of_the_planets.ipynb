{
  "nbformat": 4,
  "nbformat_minor": 0,
  "metadata": {
    "colab": {
      "provenance": []
    },
    "kernelspec": {
      "name": "python3",
      "display_name": "Python 3"
    },
    "language_info": {
      "name": "python"
    }
  },
  "cells": [
    {
      "cell_type": "markdown",
      "source": [
        "User Input Cell"
      ],
      "metadata": {
        "id": "BehTwL58n9hv"
      }
    },
    {
      "cell_type": "code",
      "execution_count": 2,
      "metadata": {
        "id": "CCrPbvhEdXTn"
      },
      "outputs": [],
      "source": [
        "m1 = 1.0  # Mass of body 1 (kg)\n",
        "m2 = 1.0  # Mass of body 2 (kg)\n",
        "x1_0 = [0.0, 1.0]  # Initial position of body 1 (m)\n",
        "x2_0 = [0.0, -1.0]  # Initial position of body 2 (m)\n",
        "v1_0 = [0.5, 0.0]  # Initial velocity of body 1 (m/s)\n",
        "v2_0 = [-0.5, 0.0]  # Initial velocity of body 2 (m/s)\n",
        "t_pred = 3.0  # Prediction time (s)"
      ]
    },
    {
      "cell_type": "markdown",
      "source": [
        "Data Generation Cell"
      ],
      "metadata": {
        "id": "JLVN6-JboBcO"
      }
    },
    {
      "cell_type": "code",
      "source": [
        "import numpy as np\n",
        "from scipy.integrate import odeint\n",
        "\n",
        "G = 6.67430e-11  # Gravitational constant\n",
        "\n",
        "def equations(y, t, m1, m2):\n",
        "    x1, y1, x2, y2, vx1, vy1, vx2, vy2 = y\n",
        "    dx1dt = vx1\n",
        "    dy1dt = vy1\n",
        "    dx2dt = vx2\n",
        "    dy2dt = vy2\n",
        "\n",
        "    r = np.hypot(x2-x1, y2-y1)\n",
        "    ax1 = G*m2*(x2 - x1)/r**3\n",
        "    ay1 = G*m2*(y2 - y1)/r**3\n",
        "    ax2 = G*m1*(x1 - x2)/r**3\n",
        "    ay2 = G*m1*(y1 - y2)/r**3\n",
        "\n",
        "    return [dx1dt, dy1dt, dx2dt, dy2dt, ax1, ay1, ax2, ay2]\n",
        "\n",
        "# Generate training data\n",
        "t_train = np.linspace(0, 5, 100)\n",
        "sol = odeint(equations, [*x1_0, *x2_0, *v1_0, *v2_0], t_train, args=(m1, m2))\n"
      ],
      "metadata": {
        "id": "M9MujHujeK4r"
      },
      "execution_count": 3,
      "outputs": []
    },
    {
      "cell_type": "markdown",
      "source": [
        "Model Definition Cell"
      ],
      "metadata": {
        "id": "zK3hn9Z5oH4j"
      }
    },
    {
      "cell_type": "code",
      "source": [
        "import torch\n",
        "import torch.nn as nn\n",
        "\n",
        "class PhysicsInformedNN(nn.Module):\n",
        "    def __init__(self):\n",
        "        super().__init__()\n",
        "        self.net = nn.Sequential(\n",
        "            nn.Linear(11, 128),  # Input: t, m1, m2, x1_0, x2_0, v1_0, v2_0 (flattened)\n",
        "            nn.Tanh(),\n",
        "            nn.Linear(128, 128),\n",
        "            nn.Tanh(),\n",
        "            nn.Linear(128, 4)   # Output: x1(t), x2(t) (flattened)\n",
        "        )\n",
        "\n",
        "    def forward(self, t, m1, m2, x1_0, x2_0, v1_0, v2_0):\n",
        "        inputs = torch.cat([t, m1, m2, x1_0, x2_0, v1_0, v2_0], dim=1)\n",
        "        return self.net(inputs)\n"
      ],
      "metadata": {
        "id": "ZfFyH3a0fOpB"
      },
      "execution_count": 4,
      "outputs": []
    },
    {
      "cell_type": "markdown",
      "source": [
        "Training Cell"
      ],
      "metadata": {
        "id": "kyY-W6eGoMDg"
      }
    },
    {
      "cell_type": "code",
      "source": [
        "import torch.optim as optim\n",
        "\n",
        "model = PhysicsInformedNN()\n",
        "optimizer = optim.Adam(model.parameters(), lr=1e-3)\n",
        "\n",
        "# Convert numpy data to tensors\n",
        "t_tensor = torch.FloatTensor(t_train).unsqueeze(1)\n",
        "t_tensor.requires_grad = True\n",
        "X_true = torch.FloatTensor(sol[:, [0,1,2,3]])\n",
        "\n",
        "# Training loop\n",
        "for epoch in range(10000):\n",
        "    optimizer.zero_grad()\n",
        "\n",
        "    X_pred = model(\n",
        "      t_tensor,  # shape: (100, 1)\n",
        "      torch.full((len(t_tensor),1), m1),  # shape: (100, 1)\n",
        "      torch.full((len(t_tensor),1), m2),  # shape: (100, 1)\n",
        "      torch.tensor(x1_0).repeat(len(t_tensor),1),  # shape: (100, 2)\n",
        "      torch.tensor(x2_0).repeat(len(t_tensor),1),  # shape: (100, 2)\n",
        "      torch.tensor(v1_0).repeat(len(t_tensor),1),  # shape: (100, 2)\n",
        "      torch.tensor(v2_0).repeat(len(t_tensor),1))  # shape: (100, 2)\n",
        "\n",
        "\n",
        "    # Data loss\n",
        "    data_loss = torch.mean((X_pred - X_true)**2)\n",
        "\n",
        "    # Physics loss (ODE residuals)\n",
        "    x1_pred = X_pred[:, :2]\n",
        "    x2_pred = X_pred[:, 2:]\n",
        "\n",
        "    # Computing accelerations via autograd\n",
        "    dx1dt = torch.autograd.grad(x1_pred, t_tensor, grad_outputs=torch.ones_like(x1_pred),\n",
        "                               create_graph=True)[0]\n",
        "    d2x1dt2 = torch.autograd.grad(dx1dt, t_tensor, grad_outputs=torch.ones_like(dx1dt),\n",
        "                                create_graph=True)[0]\n",
        "\n",
        "    dx2dt = torch.autograd.grad(x2_pred, t_tensor, grad_outputs=torch.ones_like(x2_pred), create_graph=True)[0]\n",
        "    d2x2dt2 = torch.autograd.grad(dx2dt, t_tensor, grad_outputs=torch.ones_like(dx2dt), create_graph=True)[0]\n",
        "\n",
        "    # Compute gravitational acceleration\n",
        "    r_vec = x2_pred - x1_pred\n",
        "    r = torch.norm(r_vec, dim=1, keepdim=True)\n",
        "    ax1_true = G*m2*r_vec/r**3\n",
        "    ax2_true = G*m1*(-r_vec)/r**3\n",
        "\n",
        "    physics_loss = torch.mean((d2x1dt2 - ax1_true)**2) + \\\n",
        "                   torch.mean((d2x2dt2 - ax2_true)**2)\n",
        "\n",
        "    total_loss = data_loss + physics_loss\n",
        "    total_loss.backward()\n",
        "    optimizer.step()\n"
      ],
      "metadata": {
        "id": "1-l44ghdfPCy"
      },
      "execution_count": 5,
      "outputs": []
    },
    {
      "cell_type": "markdown",
      "source": [
        "Evaluation Cell"
      ],
      "metadata": {
        "id": "-rFNMnL1oQWF"
      }
    },
    {
      "cell_type": "code",
      "source": [
        "\n",
        "from sklearn.metrics import mean_absolute_error\n",
        "import numpy as np\n",
        "\n",
        "#Generate test trajectory (ground truth)\n",
        "t_test = np.linspace(0, 10, 200)\n",
        "sol_test = odeint(equations, [*x1_0, *x2_0, *v1_0, *v2_0], t_test, args=(m1, m2))\n",
        "\n",
        "t_test_tensor = torch.FloatTensor(t_test).unsqueeze(1)\n",
        "m1_test_tensor = torch.full((len(t_test_tensor),1), m1)\n",
        "m2_test_tensor = torch.full((len(t_test_tensor),1), m2)\n",
        "x1_0_test_tensor = torch.tensor(x1_0).repeat(len(t_test_tensor),1)\n",
        "x2_0_test_tensor = torch.tensor(x2_0).repeat(len(t_test_tensor),1)\n",
        "v1_0_test_tensor = torch.tensor(v1_0).repeat(len(t_test_tensor),1)\n",
        "v2_0_test_tensor = torch.tensor(v2_0).repeat(len(t_test_tensor),1)\n",
        "\n",
        "# Model prediction\n",
        "with torch.no_grad():\n",
        "    X_pred = model(\n",
        "        t_test_tensor,\n",
        "        m1_test_tensor,\n",
        "        m2_test_tensor,\n",
        "        x1_0_test_tensor,\n",
        "        x2_0_test_tensor,\n",
        "        v1_0_test_tensor,\n",
        "        v2_0_test_tensor\n",
        "    )\n",
        "\n",
        "# MAE\n",
        "mae = mean_absolute_error(sol_test[:, [0,1,2,3]], X_pred.numpy())\n",
        "print(f\"Test MAE: {mae:.4e} meters\")\n",
        "\n",
        "# print positions at user-specified time t_pred\n",
        "idx = (np.abs(t_test - t_pred)).argmin()\n",
        "\n",
        "x1_pred = X_pred[idx, 0:2].numpy()  # [x1, y1] at t_pred\n",
        "x2_pred = X_pred[idx, 2:4].numpy()  # [x2, y2] at t_pred\n",
        "\n",
        "x1_true = sol_test[idx, 0:2]        # Ground truth [x1, y1]\n",
        "x2_true = sol_test[idx, 2:4]        # Ground truth [x2, y2]\n",
        "\n",
        "print(f\"\\nAt t = {t_pred}s:\")\n",
        "print(f\"Predicted position of body 1: {x1_pred}\")\n",
        "print(f\"Predicted position of body 2: {x2_pred}\")\n",
        "print(f\"Ground truth position of body 1: {x1_true}\")\n",
        "print(f\"Ground truth position of body 2: {x2_true}\")\n"
      ],
      "metadata": {
        "id": "sFuc1VyhfXkp",
        "colab": {
          "base_uri": "https://localhost:8080/"
        },
        "outputId": "2aee90d8-fe9e-402c-9553-91b229c2a004"
      },
      "execution_count": 6,
      "outputs": [
        {
          "output_type": "stream",
          "name": "stdout",
          "text": [
            "Test MAE: 1.2078e-01 meters\n",
            "\n",
            "At t = 3.0s:\n",
            "Predicted position of body 1: [1.50735   1.0001506]\n",
            "Predicted position of body 2: [-1.5072962 -1.0002575]\n",
            "Ground truth position of body 1: [1.50753769 1.        ]\n",
            "Ground truth position of body 2: [-1.50753769 -1.        ]\n"
          ]
        }
      ]
    },
    {
      "cell_type": "code",
      "source": [
        "import matplotlib.pyplot as plt\n",
        "import seaborn as sns\n",
        "sns.set_style(\"whitegrid\")\n",
        "\n",
        "# Trajectory of the two bodies over time (Ground Truth vs. Prediction)\n",
        "plt.figure(figsize=(10, 6))\n",
        "plt.plot(sol_test[:, 0], sol_test[:, 1], label='Body 1 (True)', linestyle='--')\n",
        "plt.plot(sol_test[:, 2], sol_test[:, 3], label='Body 2 (True)', linestyle='--')\n",
        "plt.plot(X_pred.numpy()[:, 0], X_pred.numpy()[:, 1], label='Body 1 (Pred)')\n",
        "plt.plot(X_pred.numpy()[:, 2], X_pred.numpy()[:, 3], label='Body 2 (Pred)')\n",
        "plt.xlabel('x Position (m)')\n",
        "plt.ylabel('y Position (m)')\n",
        "plt.title('Trajectories of Body 1 and Body 2')\n",
        "plt.legend()\n",
        "plt.axis('equal')\n",
        "plt.show()"
      ],
      "metadata": {
        "colab": {
          "base_uri": "https://localhost:8080/",
          "height": 564
        },
        "id": "I-QPCwAfeGr9",
        "outputId": "58b3a2fb-307f-414e-cdab-c64095846eae"
      },
      "execution_count": 7,
      "outputs": [
        {
          "output_type": "display_data",
          "data": {
            "text/plain": [
              "<Figure size 1000x600 with 1 Axes>"
            ],
            "image/png": "[encoded data removed]"
          },
          "metadata": {}
        }
      ]
    }
  ]
}